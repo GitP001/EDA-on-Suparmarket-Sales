{
  "cells": [
    {
      "cell_type": "markdown",
      "metadata": {
        "colab_type": "text",
        "id": "view-in-github"
      },
      "source": [
        "<a href=\"https://colab.research.google.com/github/GitP001/Supermarket-Sales-EDA/blob/main/EDA_Project.ipynb\" target=\"_parent\"><img src=\"https://colab.research.google.com/assets/colab-badge.svg\" alt=\"Open In Colab\"/></a>"
      ]
    },
    {
      "cell_type": "code",
      "execution_count": 1,
      "metadata": {
        "id": "q7QMpapMxff4"
      },
      "outputs": [
        {
          "name": "stderr",
          "output_type": "stream",
          "text": [
            "Matplotlib is building the font cache; this may take a moment.\n"
          ]
        }
      ],
      "source": [
        "import pandas as pd\n",
        "# Used for working with datasets - analyzing, cleaning, manipulating data\n",
        "import numpy as np\n",
        "# Used for working with arrays, linear algebra, and matrices\n",
        "import matplotlib.pyplot as plt\n",
        "import seaborn as sns\n",
        "# Python library for creating statistical visualization\n",
        "# Based on Matplotlib, offers a high-level interface\n",
        "%matplotlib inline\n",
        "# Makes plot outputs appear and be stored within the notebook, show up in the same window"
      ]
    },
    {
      "cell_type": "code",
      "execution_count": 6,
      "metadata": {
        "id": "epeQRsr_zBir"
      },
      "outputs": [],
      "source": [
        "df = pd.read_csv('/Users/kyungtaekpark/Desktop/Project/Supermarket Sales EDA/data/supermarket_sales.csv')\n",
        "# df = pd.read_csv('path-to-file/supermarket_sales.csv')"
      ]
    },
    {
      "cell_type": "code",
      "execution_count": 7,
      "metadata": {
        "colab": {
          "base_uri": "https://localhost:8080/",
          "height": 348
        },
        "id": "NAfQ92PizxDU",
        "outputId": "7163970b-8d1d-4984-a525-90ba8d96755b"
      },
      "outputs": [
        {
          "data": {
            "text/html": [
              "<div>\n",
              "<style scoped>\n",
              "    .dataframe tbody tr th:only-of-type {\n",
              "        vertical-align: middle;\n",
              "    }\n",
              "\n",
              "    .dataframe tbody tr th {\n",
              "        vertical-align: top;\n",
              "    }\n",
              "\n",
              "    .dataframe thead th {\n",
              "        text-align: right;\n",
              "    }\n",
              "</style>\n",
              "<table border=\"1\" class=\"dataframe\">\n",
              "  <thead>\n",
              "    <tr style=\"text-align: right;\">\n",
              "      <th></th>\n",
              "      <th>Invoice ID</th>\n",
              "      <th>Branch</th>\n",
              "      <th>City</th>\n",
              "      <th>Customer type</th>\n",
              "      <th>Gender</th>\n",
              "      <th>Product line</th>\n",
              "      <th>Unit price</th>\n",
              "      <th>Quantity</th>\n",
              "      <th>Tax 5%</th>\n",
              "      <th>Total</th>\n",
              "      <th>Date</th>\n",
              "      <th>Time</th>\n",
              "      <th>Payment</th>\n",
              "      <th>cogs</th>\n",
              "      <th>gross margin percentage</th>\n",
              "      <th>gross income</th>\n",
              "      <th>Rating</th>\n",
              "    </tr>\n",
              "  </thead>\n",
              "  <tbody>\n",
              "    <tr>\n",
              "      <th>0</th>\n",
              "      <td>750-67-8428</td>\n",
              "      <td>A</td>\n",
              "      <td>Yangon</td>\n",
              "      <td>Member</td>\n",
              "      <td>Female</td>\n",
              "      <td>Health and beauty</td>\n",
              "      <td>74.69</td>\n",
              "      <td>7</td>\n",
              "      <td>26.1415</td>\n",
              "      <td>548.9715</td>\n",
              "      <td>1/5/2019</td>\n",
              "      <td>13:08</td>\n",
              "      <td>Ewallet</td>\n",
              "      <td>522.83</td>\n",
              "      <td>4.761905</td>\n",
              "      <td>26.1415</td>\n",
              "      <td>9.1</td>\n",
              "    </tr>\n",
              "    <tr>\n",
              "      <th>1</th>\n",
              "      <td>226-31-3081</td>\n",
              "      <td>C</td>\n",
              "      <td>Naypyitaw</td>\n",
              "      <td>Normal</td>\n",
              "      <td>Female</td>\n",
              "      <td>Electronic accessories</td>\n",
              "      <td>15.28</td>\n",
              "      <td>5</td>\n",
              "      <td>3.8200</td>\n",
              "      <td>80.2200</td>\n",
              "      <td>3/8/2019</td>\n",
              "      <td>10:29</td>\n",
              "      <td>Cash</td>\n",
              "      <td>76.40</td>\n",
              "      <td>4.761905</td>\n",
              "      <td>3.8200</td>\n",
              "      <td>9.6</td>\n",
              "    </tr>\n",
              "    <tr>\n",
              "      <th>2</th>\n",
              "      <td>631-41-3108</td>\n",
              "      <td>A</td>\n",
              "      <td>Yangon</td>\n",
              "      <td>Normal</td>\n",
              "      <td>Male</td>\n",
              "      <td>Home and lifestyle</td>\n",
              "      <td>46.33</td>\n",
              "      <td>7</td>\n",
              "      <td>16.2155</td>\n",
              "      <td>340.5255</td>\n",
              "      <td>3/3/2019</td>\n",
              "      <td>13:23</td>\n",
              "      <td>Credit card</td>\n",
              "      <td>324.31</td>\n",
              "      <td>4.761905</td>\n",
              "      <td>16.2155</td>\n",
              "      <td>7.4</td>\n",
              "    </tr>\n",
              "    <tr>\n",
              "      <th>3</th>\n",
              "      <td>123-19-1176</td>\n",
              "      <td>A</td>\n",
              "      <td>Yangon</td>\n",
              "      <td>Member</td>\n",
              "      <td>Male</td>\n",
              "      <td>Health and beauty</td>\n",
              "      <td>58.22</td>\n",
              "      <td>8</td>\n",
              "      <td>23.2880</td>\n",
              "      <td>489.0480</td>\n",
              "      <td>1/27/2019</td>\n",
              "      <td>20:33</td>\n",
              "      <td>Ewallet</td>\n",
              "      <td>465.76</td>\n",
              "      <td>4.761905</td>\n",
              "      <td>23.2880</td>\n",
              "      <td>8.4</td>\n",
              "    </tr>\n",
              "    <tr>\n",
              "      <th>4</th>\n",
              "      <td>373-73-7910</td>\n",
              "      <td>A</td>\n",
              "      <td>Yangon</td>\n",
              "      <td>Normal</td>\n",
              "      <td>Male</td>\n",
              "      <td>Sports and travel</td>\n",
              "      <td>86.31</td>\n",
              "      <td>7</td>\n",
              "      <td>30.2085</td>\n",
              "      <td>634.3785</td>\n",
              "      <td>2/8/2019</td>\n",
              "      <td>10:37</td>\n",
              "      <td>Ewallet</td>\n",
              "      <td>604.17</td>\n",
              "      <td>4.761905</td>\n",
              "      <td>30.2085</td>\n",
              "      <td>5.3</td>\n",
              "    </tr>\n",
              "  </tbody>\n",
              "</table>\n",
              "</div>"
            ],
            "text/plain": [
              "    Invoice ID Branch       City Customer type  Gender  \\\n",
              "0  750-67-8428      A     Yangon        Member  Female   \n",
              "1  226-31-3081      C  Naypyitaw        Normal  Female   \n",
              "2  631-41-3108      A     Yangon        Normal    Male   \n",
              "3  123-19-1176      A     Yangon        Member    Male   \n",
              "4  373-73-7910      A     Yangon        Normal    Male   \n",
              "\n",
              "             Product line  Unit price  Quantity   Tax 5%     Total       Date  \\\n",
              "0       Health and beauty       74.69         7  26.1415  548.9715   1/5/2019   \n",
              "1  Electronic accessories       15.28         5   3.8200   80.2200   3/8/2019   \n",
              "2      Home and lifestyle       46.33         7  16.2155  340.5255   3/3/2019   \n",
              "3       Health and beauty       58.22         8  23.2880  489.0480  1/27/2019   \n",
              "4       Sports and travel       86.31         7  30.2085  634.3785   2/8/2019   \n",
              "\n",
              "    Time      Payment    cogs  gross margin percentage  gross income  Rating  \n",
              "0  13:08      Ewallet  522.83                 4.761905       26.1415     9.1  \n",
              "1  10:29         Cash   76.40                 4.761905        3.8200     9.6  \n",
              "2  13:23  Credit card  324.31                 4.761905       16.2155     7.4  \n",
              "3  20:33      Ewallet  465.76                 4.761905       23.2880     8.4  \n",
              "4  10:37      Ewallet  604.17                 4.761905       30.2085     5.3  "
            ]
          },
          "execution_count": 7,
          "metadata": {},
          "output_type": "execute_result"
        }
      ],
      "source": [
        "df.head()"
      ]
    },
    {
      "cell_type": "markdown",
      "metadata": {},
      "source": [
        "## Cost of Good Sold (COGS) ##\n",
        "**Definition:** COGS refers to the direct costs of producing goods sold by a company, including materials, labor, and manufacturing overhead, but excluding indirect expenses like distribution and marketing.\n",
        "\n",
        "**Importance:**\n",
        "Gross Profit: COGS is subtracted from revenue to determine gross profit.\n",
        "\n",
        "    Formula: Gross Profit = Revenue - COGS\n",
        "\n",
        "**Cost Control:** Helps businesses manage production costs and increase profitability.\n",
        "Tax Reporting: COGS is a deductible expense, reducing taxable income.\n",
        "Pricing Strategy: Essential for setting product prices to ensure profitability.\n",
        "Inventory Management: Affects how inventory is valued and managed."
      ]
    },
    {
      "cell_type": "markdown",
      "metadata": {},
      "source": [
        "## Gross Margin Percentage ##\n",
        "\n",
        "**Definition**: Gross margin percentage represents the proportion of revenue that exceeds the COGS, showing the percentage of revenue retained as profit after covering production costs.\n",
        "\n",
        "    Formula: Gross Margin % = (Gross Income / Revenue) × 100\n",
        "\n",
        "**Importance:**\n",
        "- Profitability Indicator: Higher percentages reflect better profitability and cost control.\n",
        "- Comparison Tool: Used to compare profitability across different periods or companies in the same industry.\n",
        "- Pricing Strategy: Helps in evaluating whether the pricing strategy is sufficient to cover production costs and achieve desired profits."
      ]
    },
    {
      "cell_type": "markdown",
      "metadata": {},
      "source": [
        "## Gross Income ##\n",
        "**Definition:** Gross income is the total revenue a company earns from sales minus the Cost of Goods Sold (COGS).\n",
        "\n",
        "    Formula: Gross Income = Revenue - COGS\n",
        "\n",
        "**Importance:**\n",
        "\n",
        "- Profitability Measure: Shows the company's earnings from its core operations before deducting indirect expenses.\n",
        "- Indicator of Business Efficiency: Higher gross income suggests better control over production costs."
      ]
    },
    {
      "cell_type": "code",
      "execution_count": 8,
      "metadata": {
        "colab": {
          "base_uri": "https://localhost:8080/"
        },
        "id": "5PsW45Rb0-Wo",
        "outputId": "21c92bb0-23de-4ef7-e4e0-dea252ee106c"
      },
      "outputs": [
        {
          "data": {
            "text/plain": [
              "(1000, 17)"
            ]
          },
          "execution_count": 8,
          "metadata": {},
          "output_type": "execute_result"
        }
      ],
      "source": [
        "df.shape\n",
        "# returns a tuple representing the dimensionality of DataFrame, (row, column)"
      ]
    },
    {
      "cell_type": "code",
      "execution_count": 9,
      "metadata": {
        "colab": {
          "base_uri": "https://localhost:8080/"
        },
        "id": "Cj7rPUwL0HS4",
        "outputId": "aa110bbe-2d73-4f28-c42f-b21aabfcbacb"
      },
      "outputs": [
        {
          "name": "stdout",
          "output_type": "stream",
          "text": [
            "<class 'pandas.core.frame.DataFrame'>\n",
            "RangeIndex: 1000 entries, 0 to 999\n",
            "Data columns (total 17 columns):\n",
            " #   Column                   Non-Null Count  Dtype  \n",
            "---  ------                   --------------  -----  \n",
            " 0   Invoice ID               1000 non-null   object \n",
            " 1   Branch                   1000 non-null   object \n",
            " 2   City                     1000 non-null   object \n",
            " 3   Customer type            1000 non-null   object \n",
            " 4   Gender                   1000 non-null   object \n",
            " 5   Product line             1000 non-null   object \n",
            " 6   Unit price               1000 non-null   float64\n",
            " 7   Quantity                 1000 non-null   int64  \n",
            " 8   Tax 5%                   1000 non-null   float64\n",
            " 9   Total                    1000 non-null   float64\n",
            " 10  Date                     1000 non-null   object \n",
            " 11  Time                     1000 non-null   object \n",
            " 12  Payment                  1000 non-null   object \n",
            " 13  cogs                     1000 non-null   float64\n",
            " 14  gross margin percentage  1000 non-null   float64\n",
            " 15  gross income             1000 non-null   float64\n",
            " 16  Rating                   1000 non-null   float64\n",
            "dtypes: float64(7), int64(1), object(9)\n",
            "memory usage: 132.9+ KB\n"
          ]
        }
      ],
      "source": [
        "df.info()"
      ]
    },
    {
      "cell_type": "code",
      "execution_count": 10,
      "metadata": {
        "colab": {
          "base_uri": "https://localhost:8080/"
        },
        "id": "pVizf9L9z6uC",
        "outputId": "31a44db4-9c19-49ea-aeb2-6e3fb0f13cae"
      },
      "outputs": [
        {
          "data": {
            "text/plain": [
              "Index(['Invoice ID', 'Branch', 'City', 'Customer type', 'Gender',\n",
              "       'Product line', 'Unit price', 'Quantity', 'Tax 5%', 'Total', 'Date',\n",
              "       'Time', 'Payment', 'cogs', 'gross margin percentage', 'gross income',\n",
              "       'Rating'],\n",
              "      dtype='object')"
            ]
          },
          "execution_count": 10,
          "metadata": {},
          "output_type": "execute_result"
        }
      ],
      "source": [
        "df.columns\n",
        "# Shows column names"
      ]
    },
    {
      "cell_type": "code",
      "execution_count": 11,
      "metadata": {
        "colab": {
          "base_uri": "https://localhost:8080/",
          "height": 617
        },
        "id": "eXCdsOIw03TB",
        "outputId": "135ce060-01bd-48de-e121-7a74e0d19d31"
      },
      "outputs": [
        {
          "data": {
            "text/plain": [
              "Invoice ID                  object\n",
              "Branch                      object\n",
              "City                        object\n",
              "Customer type               object\n",
              "Gender                      object\n",
              "Product line                object\n",
              "Unit price                 float64\n",
              "Quantity                     int64\n",
              "Tax 5%                     float64\n",
              "Total                      float64\n",
              "Date                        object\n",
              "Time                        object\n",
              "Payment                     object\n",
              "cogs                       float64\n",
              "gross margin percentage    float64\n",
              "gross income               float64\n",
              "Rating                     float64\n",
              "dtype: object"
            ]
          },
          "execution_count": 11,
          "metadata": {},
          "output_type": "execute_result"
        }
      ],
      "source": [
        "df.dtypes\n",
        "# Shows each data types of columns"
      ]
    },
    {
      "cell_type": "markdown",
      "metadata": {
        "id": "J5-w_7NmEE6y"
      },
      "source": [
        "## **Advantage of Converting dtype into datetime Format**\n",
        "\n",
        "Converting the dtype of an object column to datetime format has several advantages in data analysis:\n",
        "\n",
        "1. **Efficient Time-Based Operations**: It enables efficient operations such as date-based filtering, resampling, and aggregation (e.g., monthly or weekly sales).\n",
        "\n",
        "2. **Accurate Comparisons**: Direct comparison of dates becomes possible, preventing errors that can arise from string comparisons.\n",
        "\n",
        "3. **Extracting Components**: You can easily extract components like year, month, day, hour, etc., using datetime properties.\n",
        "\n",
        "4. **Handling Missing and Invalid Dates**: Converting to datetime can help identify and handle invalid or missing dates systematically.\n",
        "\n",
        "Overall, it simplifies and enhances time-series analysis and manipulation."
      ]
    },
    {
      "cell_type": "code",
      "execution_count": 12,
      "metadata": {
        "colab": {
          "base_uri": "https://localhost:8080/",
          "height": 458
        },
        "id": "jH-QF7-S1Dkw",
        "outputId": "e268e017-50d3-4b90-d12e-781b29e26702"
      },
      "outputs": [
        {
          "data": {
            "text/plain": [
              "0     2019-01-05\n",
              "1     2019-03-08\n",
              "2     2019-03-03\n",
              "3     2019-01-27\n",
              "4     2019-02-08\n",
              "         ...    \n",
              "995   2019-01-29\n",
              "996   2019-03-02\n",
              "997   2019-02-09\n",
              "998   2019-02-22\n",
              "999   2019-02-18\n",
              "Name: Date, Length: 1000, dtype: datetime64[ns]"
            ]
          },
          "execution_count": 12,
          "metadata": {},
          "output_type": "execute_result"
        }
      ],
      "source": [
        "df['Date'] = pd.to_datetime(df['Date'])\n",
        "# Converts dtype of 'Date' into 'datetime type'\n",
        "# 'datetime type' allows to perform operations specific dates and times\n",
        "\n",
        "df['Date']"
      ]
    },
    {
      "cell_type": "code",
      "execution_count": 13,
      "metadata": {
        "colab": {
          "base_uri": "https://localhost:8080/",
          "height": 617
        },
        "id": "bjPe3BjX24Bh",
        "outputId": "e16ab861-3615-410e-d96f-d4760a7733da"
      },
      "outputs": [
        {
          "data": {
            "text/plain": [
              "Invoice ID                         object\n",
              "Branch                             object\n",
              "City                               object\n",
              "Customer type                      object\n",
              "Gender                             object\n",
              "Product line                       object\n",
              "Unit price                        float64\n",
              "Quantity                            int64\n",
              "Tax 5%                            float64\n",
              "Total                             float64\n",
              "Date                       datetime64[ns]\n",
              "Time                               object\n",
              "Payment                            object\n",
              "cogs                              float64\n",
              "gross margin percentage           float64\n",
              "gross income                      float64\n",
              "Rating                            float64\n",
              "dtype: object"
            ]
          },
          "execution_count": 13,
          "metadata": {},
          "output_type": "execute_result"
        }
      ],
      "source": [
        "df.dtypes\n",
        "# dtype of date converted into datetime from object"
      ]
    },
    {
      "cell_type": "code",
      "execution_count": 14,
      "metadata": {
        "colab": {
          "base_uri": "https://localhost:8080/",
          "height": 379
        },
        "id": "ibjWDXEK30bN",
        "outputId": "18afc0a7-8f2c-41e2-c808-469f796f14c6"
      },
      "outputs": [
        {
          "data": {
            "text/html": [
              "<div>\n",
              "<style scoped>\n",
              "    .dataframe tbody tr th:only-of-type {\n",
              "        vertical-align: middle;\n",
              "    }\n",
              "\n",
              "    .dataframe tbody tr th {\n",
              "        vertical-align: top;\n",
              "    }\n",
              "\n",
              "    .dataframe thead th {\n",
              "        text-align: right;\n",
              "    }\n",
              "</style>\n",
              "<table border=\"1\" class=\"dataframe\">\n",
              "  <thead>\n",
              "    <tr style=\"text-align: right;\">\n",
              "      <th></th>\n",
              "      <th>Invoice ID</th>\n",
              "      <th>Branch</th>\n",
              "      <th>City</th>\n",
              "      <th>Customer type</th>\n",
              "      <th>Gender</th>\n",
              "      <th>Product line</th>\n",
              "      <th>Unit price</th>\n",
              "      <th>Quantity</th>\n",
              "      <th>Tax 5%</th>\n",
              "      <th>Total</th>\n",
              "      <th>Time</th>\n",
              "      <th>Payment</th>\n",
              "      <th>cogs</th>\n",
              "      <th>gross margin percentage</th>\n",
              "      <th>gross income</th>\n",
              "      <th>Rating</th>\n",
              "    </tr>\n",
              "    <tr>\n",
              "      <th>Date</th>\n",
              "      <th></th>\n",
              "      <th></th>\n",
              "      <th></th>\n",
              "      <th></th>\n",
              "      <th></th>\n",
              "      <th></th>\n",
              "      <th></th>\n",
              "      <th></th>\n",
              "      <th></th>\n",
              "      <th></th>\n",
              "      <th></th>\n",
              "      <th></th>\n",
              "      <th></th>\n",
              "      <th></th>\n",
              "      <th></th>\n",
              "      <th></th>\n",
              "    </tr>\n",
              "  </thead>\n",
              "  <tbody>\n",
              "    <tr>\n",
              "      <th>2019-01-05</th>\n",
              "      <td>750-67-8428</td>\n",
              "      <td>A</td>\n",
              "      <td>Yangon</td>\n",
              "      <td>Member</td>\n",
              "      <td>Female</td>\n",
              "      <td>Health and beauty</td>\n",
              "      <td>74.69</td>\n",
              "      <td>7</td>\n",
              "      <td>26.1415</td>\n",
              "      <td>548.9715</td>\n",
              "      <td>13:08</td>\n",
              "      <td>Ewallet</td>\n",
              "      <td>522.83</td>\n",
              "      <td>4.761905</td>\n",
              "      <td>26.1415</td>\n",
              "      <td>9.1</td>\n",
              "    </tr>\n",
              "    <tr>\n",
              "      <th>2019-03-08</th>\n",
              "      <td>226-31-3081</td>\n",
              "      <td>C</td>\n",
              "      <td>Naypyitaw</td>\n",
              "      <td>Normal</td>\n",
              "      <td>Female</td>\n",
              "      <td>Electronic accessories</td>\n",
              "      <td>15.28</td>\n",
              "      <td>5</td>\n",
              "      <td>3.8200</td>\n",
              "      <td>80.2200</td>\n",
              "      <td>10:29</td>\n",
              "      <td>Cash</td>\n",
              "      <td>76.40</td>\n",
              "      <td>4.761905</td>\n",
              "      <td>3.8200</td>\n",
              "      <td>9.6</td>\n",
              "    </tr>\n",
              "    <tr>\n",
              "      <th>2019-03-03</th>\n",
              "      <td>631-41-3108</td>\n",
              "      <td>A</td>\n",
              "      <td>Yangon</td>\n",
              "      <td>Normal</td>\n",
              "      <td>Male</td>\n",
              "      <td>Home and lifestyle</td>\n",
              "      <td>46.33</td>\n",
              "      <td>7</td>\n",
              "      <td>16.2155</td>\n",
              "      <td>340.5255</td>\n",
              "      <td>13:23</td>\n",
              "      <td>Credit card</td>\n",
              "      <td>324.31</td>\n",
              "      <td>4.761905</td>\n",
              "      <td>16.2155</td>\n",
              "      <td>7.4</td>\n",
              "    </tr>\n",
              "    <tr>\n",
              "      <th>2019-01-27</th>\n",
              "      <td>123-19-1176</td>\n",
              "      <td>A</td>\n",
              "      <td>Yangon</td>\n",
              "      <td>Member</td>\n",
              "      <td>Male</td>\n",
              "      <td>Health and beauty</td>\n",
              "      <td>58.22</td>\n",
              "      <td>8</td>\n",
              "      <td>23.2880</td>\n",
              "      <td>489.0480</td>\n",
              "      <td>20:33</td>\n",
              "      <td>Ewallet</td>\n",
              "      <td>465.76</td>\n",
              "      <td>4.761905</td>\n",
              "      <td>23.2880</td>\n",
              "      <td>8.4</td>\n",
              "    </tr>\n",
              "    <tr>\n",
              "      <th>2019-02-08</th>\n",
              "      <td>373-73-7910</td>\n",
              "      <td>A</td>\n",
              "      <td>Yangon</td>\n",
              "      <td>Normal</td>\n",
              "      <td>Male</td>\n",
              "      <td>Sports and travel</td>\n",
              "      <td>86.31</td>\n",
              "      <td>7</td>\n",
              "      <td>30.2085</td>\n",
              "      <td>634.3785</td>\n",
              "      <td>10:37</td>\n",
              "      <td>Ewallet</td>\n",
              "      <td>604.17</td>\n",
              "      <td>4.761905</td>\n",
              "      <td>30.2085</td>\n",
              "      <td>5.3</td>\n",
              "    </tr>\n",
              "  </tbody>\n",
              "</table>\n",
              "</div>"
            ],
            "text/plain": [
              "             Invoice ID Branch       City Customer type  Gender  \\\n",
              "Date                                                              \n",
              "2019-01-05  750-67-8428      A     Yangon        Member  Female   \n",
              "2019-03-08  226-31-3081      C  Naypyitaw        Normal  Female   \n",
              "2019-03-03  631-41-3108      A     Yangon        Normal    Male   \n",
              "2019-01-27  123-19-1176      A     Yangon        Member    Male   \n",
              "2019-02-08  373-73-7910      A     Yangon        Normal    Male   \n",
              "\n",
              "                      Product line  Unit price  Quantity   Tax 5%     Total  \\\n",
              "Date                                                                          \n",
              "2019-01-05       Health and beauty       74.69         7  26.1415  548.9715   \n",
              "2019-03-08  Electronic accessories       15.28         5   3.8200   80.2200   \n",
              "2019-03-03      Home and lifestyle       46.33         7  16.2155  340.5255   \n",
              "2019-01-27       Health and beauty       58.22         8  23.2880  489.0480   \n",
              "2019-02-08       Sports and travel       86.31         7  30.2085  634.3785   \n",
              "\n",
              "             Time      Payment    cogs  gross margin percentage  gross income  \\\n",
              "Date                                                                            \n",
              "2019-01-05  13:08      Ewallet  522.83                 4.761905       26.1415   \n",
              "2019-03-08  10:29         Cash   76.40                 4.761905        3.8200   \n",
              "2019-03-03  13:23  Credit card  324.31                 4.761905       16.2155   \n",
              "2019-01-27  20:33      Ewallet  465.76                 4.761905       23.2880   \n",
              "2019-02-08  10:37      Ewallet  604.17                 4.761905       30.2085   \n",
              "\n",
              "            Rating  \n",
              "Date                \n",
              "2019-01-05     9.1  \n",
              "2019-03-08     9.6  \n",
              "2019-03-03     7.4  \n",
              "2019-01-27     8.4  \n",
              "2019-02-08     5.3  "
            ]
          },
          "execution_count": 14,
          "metadata": {},
          "output_type": "execute_result"
        }
      ],
      "source": [
        "df.set_index('Date', inplace = True)\n",
        "# Set 'Date' as index, and modify the original DataFrame into new one.\n",
        "df.head()"
      ]
    },
    {
      "cell_type": "markdown",
      "metadata": {
        "id": "kK-81FO6EnJG"
      },
      "source": [
        "## **Statistical Summary: .describe() method**\n",
        "\n",
        "The .describe() method in data analysis provides a summary of the statistical properties of a DataFrame's numerical columns. It includes metrics such as:\n",
        "\n",
        "- **Count**: Number of non-null values.\n",
        "- **Mean**: Average of the values.\n",
        "- **Standard Deviation (std)**: Measures the spread of the values.\n",
        "- **Min, 25%, 50%, 75%, Max**: Minimum, quartiles (25th, 50th, 75th percentile), and maximum values.\n",
        "\n",
        "This helps in understanding the central tendency, dispersion, and shape of the dataset's distribution. For non-numerical columns, .describe() provides information like count, unique values, top value, and frequency.\n"
      ]
    },
    {
      "cell_type": "code",
      "execution_count": 15,
      "metadata": {
        "colab": {
          "base_uri": "https://localhost:8080/",
          "height": 335
        },
        "id": "7n5ZunMg4kx9",
        "outputId": "0ef3fb4a-17df-46f5-acfb-59b3904261e6"
      },
      "outputs": [
        {
          "data": {
            "text/html": [
              "<div>\n",
              "<style scoped>\n",
              "    .dataframe tbody tr th:only-of-type {\n",
              "        vertical-align: middle;\n",
              "    }\n",
              "\n",
              "    .dataframe tbody tr th {\n",
              "        vertical-align: top;\n",
              "    }\n",
              "\n",
              "    .dataframe thead th {\n",
              "        text-align: right;\n",
              "    }\n",
              "</style>\n",
              "<table border=\"1\" class=\"dataframe\">\n",
              "  <thead>\n",
              "    <tr style=\"text-align: right;\">\n",
              "      <th></th>\n",
              "      <th>Unit price</th>\n",
              "      <th>Quantity</th>\n",
              "      <th>Tax 5%</th>\n",
              "      <th>Total</th>\n",
              "      <th>cogs</th>\n",
              "      <th>gross margin percentage</th>\n",
              "      <th>gross income</th>\n",
              "      <th>Rating</th>\n",
              "    </tr>\n",
              "  </thead>\n",
              "  <tbody>\n",
              "    <tr>\n",
              "      <th>count</th>\n",
              "      <td>1000.000000</td>\n",
              "      <td>1000.000000</td>\n",
              "      <td>1000.000000</td>\n",
              "      <td>1000.000000</td>\n",
              "      <td>1000.00000</td>\n",
              "      <td>1000.000000</td>\n",
              "      <td>1000.000000</td>\n",
              "      <td>1000.00000</td>\n",
              "    </tr>\n",
              "    <tr>\n",
              "      <th>mean</th>\n",
              "      <td>55.672130</td>\n",
              "      <td>5.510000</td>\n",
              "      <td>15.379369</td>\n",
              "      <td>322.966749</td>\n",
              "      <td>307.58738</td>\n",
              "      <td>4.761905</td>\n",
              "      <td>15.379369</td>\n",
              "      <td>6.97270</td>\n",
              "    </tr>\n",
              "    <tr>\n",
              "      <th>std</th>\n",
              "      <td>26.494628</td>\n",
              "      <td>2.923431</td>\n",
              "      <td>11.708825</td>\n",
              "      <td>245.885335</td>\n",
              "      <td>234.17651</td>\n",
              "      <td>0.000000</td>\n",
              "      <td>11.708825</td>\n",
              "      <td>1.71858</td>\n",
              "    </tr>\n",
              "    <tr>\n",
              "      <th>min</th>\n",
              "      <td>10.080000</td>\n",
              "      <td>1.000000</td>\n",
              "      <td>0.508500</td>\n",
              "      <td>10.678500</td>\n",
              "      <td>10.17000</td>\n",
              "      <td>4.761905</td>\n",
              "      <td>0.508500</td>\n",
              "      <td>4.00000</td>\n",
              "    </tr>\n",
              "    <tr>\n",
              "      <th>25%</th>\n",
              "      <td>32.875000</td>\n",
              "      <td>3.000000</td>\n",
              "      <td>5.924875</td>\n",
              "      <td>124.422375</td>\n",
              "      <td>118.49750</td>\n",
              "      <td>4.761905</td>\n",
              "      <td>5.924875</td>\n",
              "      <td>5.50000</td>\n",
              "    </tr>\n",
              "    <tr>\n",
              "      <th>50%</th>\n",
              "      <td>55.230000</td>\n",
              "      <td>5.000000</td>\n",
              "      <td>12.088000</td>\n",
              "      <td>253.848000</td>\n",
              "      <td>241.76000</td>\n",
              "      <td>4.761905</td>\n",
              "      <td>12.088000</td>\n",
              "      <td>7.00000</td>\n",
              "    </tr>\n",
              "    <tr>\n",
              "      <th>75%</th>\n",
              "      <td>77.935000</td>\n",
              "      <td>8.000000</td>\n",
              "      <td>22.445250</td>\n",
              "      <td>471.350250</td>\n",
              "      <td>448.90500</td>\n",
              "      <td>4.761905</td>\n",
              "      <td>22.445250</td>\n",
              "      <td>8.50000</td>\n",
              "    </tr>\n",
              "    <tr>\n",
              "      <th>max</th>\n",
              "      <td>99.960000</td>\n",
              "      <td>10.000000</td>\n",
              "      <td>49.650000</td>\n",
              "      <td>1042.650000</td>\n",
              "      <td>993.00000</td>\n",
              "      <td>4.761905</td>\n",
              "      <td>49.650000</td>\n",
              "      <td>10.00000</td>\n",
              "    </tr>\n",
              "  </tbody>\n",
              "</table>\n",
              "</div>"
            ],
            "text/plain": [
              "        Unit price     Quantity       Tax 5%        Total        cogs  \\\n",
              "count  1000.000000  1000.000000  1000.000000  1000.000000  1000.00000   \n",
              "mean     55.672130     5.510000    15.379369   322.966749   307.58738   \n",
              "std      26.494628     2.923431    11.708825   245.885335   234.17651   \n",
              "min      10.080000     1.000000     0.508500    10.678500    10.17000   \n",
              "25%      32.875000     3.000000     5.924875   124.422375   118.49750   \n",
              "50%      55.230000     5.000000    12.088000   253.848000   241.76000   \n",
              "75%      77.935000     8.000000    22.445250   471.350250   448.90500   \n",
              "max      99.960000    10.000000    49.650000  1042.650000   993.00000   \n",
              "\n",
              "       gross margin percentage  gross income      Rating  \n",
              "count              1000.000000   1000.000000  1000.00000  \n",
              "mean                  4.761905     15.379369     6.97270  \n",
              "std                   0.000000     11.708825     1.71858  \n",
              "min                   4.761905      0.508500     4.00000  \n",
              "25%                   4.761905      5.924875     5.50000  \n",
              "50%                   4.761905     12.088000     7.00000  \n",
              "75%                   4.761905     22.445250     8.50000  \n",
              "max                   4.761905     49.650000    10.00000  "
            ]
          },
          "execution_count": 15,
          "metadata": {},
          "output_type": "execute_result"
        }
      ],
      "source": [
        "df.describe()\n",
        "# Statistical Summary"
      ]
    },
    {
      "cell_type": "code",
      "execution_count": 16,
      "metadata": {
        "colab": {
          "base_uri": "https://localhost:8080/",
          "height": 586
        },
        "id": "dWoqB_3m4HTL",
        "outputId": "d85885f6-e266-4c58-8a8d-4c723e4d658c"
      },
      "outputs": [
        {
          "data": {
            "text/plain": [
              "Invoice ID                 0\n",
              "Branch                     0\n",
              "City                       0\n",
              "Customer type              0\n",
              "Gender                     0\n",
              "Product line               0\n",
              "Unit price                 0\n",
              "Quantity                   0\n",
              "Tax 5%                     0\n",
              "Total                      0\n",
              "Time                       0\n",
              "Payment                    0\n",
              "cogs                       0\n",
              "gross margin percentage    0\n",
              "gross income               0\n",
              "Rating                     0\n",
              "dtype: int64"
            ]
          },
          "execution_count": 16,
          "metadata": {},
          "output_type": "execute_result"
        }
      ],
      "source": [
        "df.isnull().sum()\n",
        "# Shows the number of missing values (NaN) in each column"
      ]
    },
    {
      "cell_type": "markdown",
      "metadata": {
        "id": "sWYZLbfy-_2p"
      },
      "source": [
        "## **Determining which values to replace NaN values**\n",
        "\n",
        "\n",
        "#### **When to Use the Mean**:\n",
        "\n",
        "- Suitable for continuous numerical data.\n",
        "- The data is symmetrically distributed or has no extreme outliers.\n",
        "- Example: Replacing missing values in 'Unit Price'.\n",
        "\n",
        "\n",
        "#### **When to Use the Mode**:\n",
        "- Suitable for categorical or discrete numerical data.\n",
        "- When a particular value is highly frequent and represents a typical case.\n",
        "- Example: Replacing missing values in 'Payment Method' or 'Quantity'.\n",
        "\n",
        "#### **When to Use Other Values**:\n",
        "- **Median**: for skewed numerical data (not symmetrically distributed - normal distribution) to avoid distortion.\n"
      ]
    },
    {
      "cell_type": "code",
      "execution_count": 17,
      "metadata": {
        "colab": {
          "base_uri": "https://localhost:8080/"
        },
        "id": "zaHzJ9s14_7F",
        "outputId": "2f5e4640-b694-43bc-9b29-8f7abeb9cb01"
      },
      "outputs": [
        {
          "name": "stdout",
          "output_type": "stream",
          "text": [
            "55.67213\n"
          ]
        },
        {
          "name": "stderr",
          "output_type": "stream",
          "text": [
            "/var/folders/zw/21_184vn4495cfkjr0jnznx40000gn/T/ipykernel_35909/300173713.py:7: FutureWarning: A value is trying to be set on a copy of a DataFrame or Series through chained assignment using an inplace method.\n",
            "The behavior will change in pandas 3.0. This inplace method will never work because the intermediate object on which we are setting values always behaves as a copy.\n",
            "\n",
            "For example, when doing 'df[col].method(value, inplace=True)', try using 'df.method({col: value}, inplace=True)' or df[col] = df[col].method(value) instead, to perform the operation inplace on the original object.\n",
            "\n",
            "\n",
            "  df['Unit price'].replace(np.nan, avg_unit_price, inplace = True)\n"
          ]
        }
      ],
      "source": [
        "avg_unit_price = df['Unit price'].astype('float').mean()\n",
        "# Converts the 'Unit price' column to float type\n",
        "# Calculates the mean (average) of the 'Unit price' column and stores it in the\n",
        "# variable avg_unit_price.\n",
        "print(avg_unit_price)\n",
        "\n",
        "df['Unit price'].replace(np.nan, avg_unit_price, inplace = True)\n",
        "# Replaces any missing (NaN) values in the 'Unit price' column with the average\n",
        "# value calculated in the previous step, and modifies the DataFrame directly\n",
        "# without creating a copy."
      ]
    },
    {
      "cell_type": "markdown",
      "metadata": {
        "id": "8PIEHt4H9W79"
      },
      "source": [
        "Replacing missing values with the average (mean) is a common data imputation strategy. It is particularly useful when:\n",
        "\n",
        "1. **Central Tendency**: The mean represents the central tendency of the data, making it a good estimate for missing values in a normally distributed dataset.\n",
        "\n",
        "2. **Minimizes Bias**: It avoids skewing the dataset too much, especially when the data points are evenly distributed around the mean.\n",
        "\n",
        "However, it may not be suitable if the data is highly skewed or if missing values are not random. Other methods, such as median or mode, might be more appropriate in such cases."
      ]
    },
    {
      "cell_type": "code",
      "execution_count": 19,
      "metadata": {
        "colab": {
          "base_uri": "https://localhost:8080/"
        },
        "id": "Xs19qXm97BK2",
        "outputId": "2fdc84c4-4c0c-4878-fc60-969c8502b33d"
      },
      "outputs": [
        {
          "name": "stdout",
          "output_type": "stream",
          "text": [
            "ModeResult(mode=10, count=119)\n"
          ]
        }
      ],
      "source": [
        "from scipy import stats\n",
        "# Imports the stats module from the scipy library, which provides statistical functions.\n",
        "\n",
        "mode = stats.mode(df['Quantity'])\n",
        "# Calculates the mode (the most frequently occurring value) of 'Quantity' column\n",
        "#   in df and stores the result in the variable 'mode'.\n",
        "\n",
        "print(mode)\n",
        "# Shows the value of mode, and how many times that value occurs in df."
      ]
    },
    {
      "cell_type": "code",
      "execution_count": 20,
      "metadata": {
        "id": "01vTg1Qn8FGV"
      },
      "outputs": [
        {
          "name": "stderr",
          "output_type": "stream",
          "text": [
            "/var/folders/zw/21_184vn4495cfkjr0jnznx40000gn/T/ipykernel_35909/1658752855.py:1: FutureWarning: A value is trying to be set on a copy of a DataFrame or Series through chained assignment using an inplace method.\n",
            "The behavior will change in pandas 3.0. This inplace method will never work because the intermediate object on which we are setting values always behaves as a copy.\n",
            "\n",
            "For example, when doing 'df[col].method(value, inplace=True)', try using 'df.method({col: value}, inplace=True)' or df[col] = df[col].method(value) instead, to perform the operation inplace on the original object.\n",
            "\n",
            "\n",
            "  df['Quantity'].replace(np.nan, \"mode\", inplace = True)\n"
          ]
        }
      ],
      "source": [
        "df['Quantity'].replace(np.nan, \"mode\", inplace = True)\n",
        "# Replacing NaN values with mode of a colum"
      ]
    },
    {
      "cell_type": "markdown",
      "metadata": {
        "id": "U4UG_cl-8Z-r"
      },
      "source": [
        "Replacing NaN values with the mode of a column is a common data imputation strategy in data analysis. The advantages are:\n",
        "\n",
        "1. **Prevents Data Loss**: Retains all rows by filling missing values, avoiding the need to drop rows which could lead to loss of information.\n",
        "\n",
        "2. **Maintains Distribution**: Mode imputation preserves the most common value, keeping the overall distribution closer to the original data.\n",
        "\n",
        "\n",
        "However, its validity depends on the context. It is suitable when the mode is a reasonable estimate for missing data. In some cases, using the mean, median, or other techniques may be more appropriate."
      ]
    },
    {
      "cell_type": "code",
      "execution_count": 21,
      "metadata": {
        "id": "OmlDDD_Q-gEe"
      },
      "outputs": [],
      "source": [
        "df.dropna(inplace=True)\n",
        "# Removes all rows from df that contain any NaN values."
      ]
    },
    {
      "cell_type": "code",
      "execution_count": 22,
      "metadata": {
        "colab": {
          "base_uri": "https://localhost:8080/",
          "height": 586
        },
        "id": "vSpWAIZVBAb0",
        "outputId": "67bc6657-dbc6-42b4-ce60-e34b7fd08ecf"
      },
      "outputs": [
        {
          "data": {
            "text/plain": [
              "Invoice ID                 0\n",
              "Branch                     0\n",
              "City                       0\n",
              "Customer type              0\n",
              "Gender                     0\n",
              "Product line               0\n",
              "Unit price                 0\n",
              "Quantity                   0\n",
              "Tax 5%                     0\n",
              "Total                      0\n",
              "Time                       0\n",
              "Payment                    0\n",
              "cogs                       0\n",
              "gross margin percentage    0\n",
              "gross income               0\n",
              "Rating                     0\n",
              "dtype: int64"
            ]
          },
          "execution_count": 22,
          "metadata": {},
          "output_type": "execute_result"
        }
      ],
      "source": [
        "df.isnull().sum()\n",
        "# Final check on missing values after data cleaning"
      ]
    },
    {
      "cell_type": "markdown",
      "metadata": {
        "id": "wKsWtusOFIwt"
      },
      "source": [
        "## **Correlations within DataFrame**"
      ]
    },
    {
      "cell_type": "code",
      "execution_count": 27,
      "metadata": {
        "colab": {
          "base_uri": "https://localhost:8080/",
          "height": 335
        },
        "id": "IE7LWvBwBAEB",
        "outputId": "596838ff-57ae-43f0-826e-177e1cc4abf3"
      },
      "outputs": [
        {
          "name": "stdout",
          "output_type": "stream",
          "text": [
            "                         Unit price  Quantity    Tax 5%     Total      cogs  \\\n",
            "Unit price                 1.000000  0.010778  0.633962  0.633962  0.633962   \n",
            "Quantity                   0.010778  1.000000  0.705510  0.705510  0.705510   \n",
            "Tax 5%                     0.633962  0.705510  1.000000  1.000000  1.000000   \n",
            "Total                      0.633962  0.705510  1.000000  1.000000  1.000000   \n",
            "cogs                       0.633962  0.705510  1.000000  1.000000  1.000000   \n",
            "gross margin percentage         NaN       NaN       NaN       NaN       NaN   \n",
            "gross income               0.633962  0.705510  1.000000  1.000000  1.000000   \n",
            "Rating                    -0.008778 -0.015815 -0.036442 -0.036442 -0.036442   \n",
            "\n",
            "                         gross margin percentage  gross income    Rating  \n",
            "Unit price                                   NaN      0.633962 -0.008778  \n",
            "Quantity                                     NaN      0.705510 -0.015815  \n",
            "Tax 5%                                       NaN      1.000000 -0.036442  \n",
            "Total                                        NaN      1.000000 -0.036442  \n",
            "cogs                                         NaN      1.000000 -0.036442  \n",
            "gross margin percentage                      NaN           NaN       NaN  \n",
            "gross income                                 NaN      1.000000 -0.036442  \n",
            "Rating                                       NaN     -0.036442  1.000000  \n"
          ]
        }
      ],
      "source": [
        "numeric_columns = ['Unit price', 'Quantity', 'Tax 5%', 'Total', 'cogs', 'gross margin percentage', 'gross income', 'Rating']\n",
        "numeric_df = df[numeric_columns]\n",
        "\n",
        "# Calculate the correlation matrix for numeric columns\n",
        "correlation_matrix = numeric_df.corr()\n",
        "print(correlation_matrix)\n",
        "\n",
        "#df.corr()\n",
        "# Calculate the pairwise correlation coefficients between numerical columns in a DataFrame."
      ]
    },
    {
      "cell_type": "markdown",
      "metadata": {
        "id": "OeVI6MyeC0Pq"
      },
      "source": [
        "#### **Correlation Coefficient**\n",
        "\n",
        "The correlation coefficient measures the strength and direction of the linear relationship between variables, ranging from -1 to 1:\n",
        "- **1**: Perfect positive correlation.\n",
        "- **0**: No correlation.\n",
        "- **-1**: Perfect negative correlation.\n",
        "\n",
        "In general, correlation coefficients are interpreted as follows:\n",
        "\n",
        "- **0.0 to 0.1 (or -0.1)**: No or very weak correlation.\n",
        "- **0.1 to 0.3 (or -0.1 to -0.3)**: Weak correlation.\n",
        "- **0.3 to 0.5 (or -0.3 to -0.5)**: Moderate correlation.\n",
        "- **0.5 to 0.7 (or -0.5 to -0.7)**: Strong correlation.\n",
        "- **0.7 to 1.0 (or -0.7 to -1.0)**: Very strong correlation."
      ]
    },
    {
      "cell_type": "code",
      "execution_count": 29,
      "metadata": {
        "colab": {
          "base_uri": "https://localhost:8080/",
          "height": 335
        },
        "id": "PH5xMcYMDUrp",
        "outputId": "48e8bef8-3651-40ad-b8ba-31caca5090aa"
      },
      "outputs": [
        {
          "name": "stdout",
          "output_type": "stream",
          "text": [
            "                         Unit price  Quantity  Tax 5%  Total  cogs  \\\n",
            "Unit price                     1.00      0.01    0.63   0.63  0.63   \n",
            "Quantity                       0.01      1.00    0.71   0.71  0.71   \n",
            "Tax 5%                         0.63      0.71    1.00   1.00  1.00   \n",
            "Total                          0.63      0.71    1.00   1.00  1.00   \n",
            "cogs                           0.63      0.71    1.00   1.00  1.00   \n",
            "gross margin percentage         NaN       NaN     NaN    NaN   NaN   \n",
            "gross income                   0.63      0.71    1.00   1.00  1.00   \n",
            "Rating                        -0.01     -0.02   -0.04  -0.04 -0.04   \n",
            "\n",
            "                         gross margin percentage  gross income  Rating  \n",
            "Unit price                                   NaN          0.63   -0.01  \n",
            "Quantity                                     NaN          0.71   -0.02  \n",
            "Tax 5%                                       NaN          1.00   -0.04  \n",
            "Total                                        NaN          1.00   -0.04  \n",
            "cogs                                         NaN          1.00   -0.04  \n",
            "gross margin percentage                      NaN           NaN     NaN  \n",
            "gross income                                 NaN          1.00   -0.04  \n",
            "Rating                                       NaN         -0.04    1.00  \n"
          ]
        }
      ],
      "source": [
        "# Select only numeric columns from your DataFrame\n",
        "numeric_columns = ['Unit price', 'Quantity', 'Tax 5%', 'Total', 'cogs', 'gross margin percentage', 'gross income', 'Rating']\n",
        "\n",
        "# Convert non-numeric values to NaN for the selected numeric columns\n",
        "numeric_df = df[numeric_columns].apply(pd.to_numeric, errors='coerce')\n",
        "\n",
        "# Drop rows with NaN values to avoid errors in correlation calculation\n",
        "numeric_df = numeric_df.dropna()\n",
        "\n",
        "# Calculate the correlation matrix and round it to 2 decimal places\n",
        "correlation_matrix = np.round(numeric_df.corr(), 2)\n",
        "\n",
        "# Display the correlation matrix\n",
        "print(correlation_matrix)\n",
        "\n",
        "#np.round(df.corr(),2)\n",
        "# Use numpy fn round() and round the values in the correlation matrix into\n",
        "# 2 decimal places."
      ]
    }
  ],
  "metadata": {
    "colab": {
      "authorship_tag": "ABX9TyOU6Q5LUsdJV+jfKSI45Gfe",
      "include_colab_link": true,
      "provenance": []
    },
    "kernelspec": {
      "display_name": "Python 3",
      "name": "python3"
    },
    "language_info": {
      "codemirror_mode": {
        "name": "ipython",
        "version": 3
      },
      "file_extension": ".py",
      "mimetype": "text/x-python",
      "name": "python",
      "nbconvert_exporter": "python",
      "pygments_lexer": "ipython3",
      "version": "3.12.2"
    }
  },
  "nbformat": 4,
  "nbformat_minor": 0
}
